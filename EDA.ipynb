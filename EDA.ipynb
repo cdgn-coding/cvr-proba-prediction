{
 "cells": [
  {
   "cell_type": "markdown",
   "metadata": {},
   "source": [
    "# CVR prediction"
   ]
  },
  {
   "cell_type": "code",
   "execution_count": null,
   "metadata": {},
   "outputs": [],
   "source": [
    "!pip install ppscore"
   ]
  },
  {
   "cell_type": "code",
   "execution_count": 1,
   "metadata": {},
   "outputs": [],
   "source": [
    "import pandas as pd\n",
    "import numpy as np"
   ]
  },
  {
   "cell_type": "code",
   "execution_count": 2,
   "metadata": {},
   "outputs": [],
   "source": [
    "train = pd.read_csv(\"train.csv\")"
   ]
  },
  {
   "cell_type": "code",
   "execution_count": 3,
   "metadata": {},
   "outputs": [
    {
     "data": {
      "text/html": [
       "<div>\n",
       "<style scoped>\n",
       "    .dataframe tbody tr th:only-of-type {\n",
       "        vertical-align: middle;\n",
       "    }\n",
       "\n",
       "    .dataframe tbody tr th {\n",
       "        vertical-align: top;\n",
       "    }\n",
       "\n",
       "    .dataframe thead th {\n",
       "        text-align: right;\n",
       "    }\n",
       "</style>\n",
       "<table border=\"1\" class=\"dataframe\">\n",
       "  <thead>\n",
       "    <tr style=\"text-align: right;\">\n",
       "      <th></th>\n",
       "      <th>accepts_mercadopago</th>\n",
       "      <th>available_quantity</th>\n",
       "      <th>avg_gmv_item_domain_30days</th>\n",
       "      <th>avg_gmv_item_sel</th>\n",
       "      <th>avg_gmv_seller_bday</th>\n",
       "      <th>avg_qty_orders_item_domain_30days</th>\n",
       "      <th>avg_qty_orders_item_sel_30days</th>\n",
       "      <th>avg_si_item_sel_30day</th>\n",
       "      <th>benefit</th>\n",
       "      <th>boosted</th>\n",
       "      <th>...</th>\n",
       "      <th>total_orders_sel_30days</th>\n",
       "      <th>total_si_domain_30days</th>\n",
       "      <th>total_si_item_30days</th>\n",
       "      <th>total_si_sel_30days</th>\n",
       "      <th>total_visits_domain</th>\n",
       "      <th>total_visits_item</th>\n",
       "      <th>total_visits_seller</th>\n",
       "      <th>uid</th>\n",
       "      <th>user_id</th>\n",
       "      <th>warranty</th>\n",
       "    </tr>\n",
       "  </thead>\n",
       "  <tbody>\n",
       "    <tr>\n",
       "      <th>128617</th>\n",
       "      <td>True</td>\n",
       "      <td>40</td>\n",
       "      <td>191.589292</td>\n",
       "      <td>224.301526</td>\n",
       "      <td>1420.576333</td>\n",
       "      <td>3.317125</td>\n",
       "      <td>4.010526</td>\n",
       "      <td>8.284211</td>\n",
       "      <td>0.001</td>\n",
       "      <td>False</td>\n",
       "      <td>...</td>\n",
       "      <td>762.0</td>\n",
       "      <td>3438.0</td>\n",
       "      <td>21.0</td>\n",
       "      <td>1574.0</td>\n",
       "      <td>353082</td>\n",
       "      <td>4185</td>\n",
       "      <td>61884</td>\n",
       "      <td>6c828918-4ff1-437b-a866-d2a501123e32</td>\n",
       "      <td>287158472.0</td>\n",
       "      <td>Garantía de fábrica: 99 años</td>\n",
       "    </tr>\n",
       "    <tr>\n",
       "      <th>92292</th>\n",
       "      <td>True</td>\n",
       "      <td>955</td>\n",
       "      <td>192.748361</td>\n",
       "      <td>368.332881</td>\n",
       "      <td>724.388000</td>\n",
       "      <td>2.278689</td>\n",
       "      <td>3.542373</td>\n",
       "      <td>3.881356</td>\n",
       "      <td>0.001</td>\n",
       "      <td>False</td>\n",
       "      <td>...</td>\n",
       "      <td>209.0</td>\n",
       "      <td>878.0</td>\n",
       "      <td>27.0</td>\n",
       "      <td>229.0</td>\n",
       "      <td>178397</td>\n",
       "      <td>1350</td>\n",
       "      <td>27518</td>\n",
       "      <td>e60f6f83-b9bf-4bf6-bcff-4767b76743cb</td>\n",
       "      <td>NaN</td>\n",
       "      <td>Sí</td>\n",
       "    </tr>\n",
       "    <tr>\n",
       "      <th>141368</th>\n",
       "      <td>True</td>\n",
       "      <td>263</td>\n",
       "      <td>1013.901797</td>\n",
       "      <td>8848.796216</td>\n",
       "      <td>10913.515333</td>\n",
       "      <td>3.619656</td>\n",
       "      <td>26.243243</td>\n",
       "      <td>26.729730</td>\n",
       "      <td>0.000</td>\n",
       "      <td>False</td>\n",
       "      <td>...</td>\n",
       "      <td>971.0</td>\n",
       "      <td>58125.0</td>\n",
       "      <td>8.0</td>\n",
       "      <td>989.0</td>\n",
       "      <td>8003689</td>\n",
       "      <td>266</td>\n",
       "      <td>33169</td>\n",
       "      <td>24e5b304-56a7-4009-a352-4d6a6dc30537</td>\n",
       "      <td>355256541.0</td>\n",
       "      <td>Garantía de fábrica: 12 meses</td>\n",
       "    </tr>\n",
       "  </tbody>\n",
       "</table>\n",
       "<p>3 rows × 56 columns</p>\n",
       "</div>"
      ],
      "text/plain": [
       "        accepts_mercadopago  available_quantity  avg_gmv_item_domain_30days  \\\n",
       "128617                 True                  40                  191.589292   \n",
       "92292                  True                 955                  192.748361   \n",
       "141368                 True                 263                 1013.901797   \n",
       "\n",
       "        avg_gmv_item_sel  avg_gmv_seller_bday  \\\n",
       "128617        224.301526          1420.576333   \n",
       "92292         368.332881           724.388000   \n",
       "141368       8848.796216         10913.515333   \n",
       "\n",
       "        avg_qty_orders_item_domain_30days  avg_qty_orders_item_sel_30days  \\\n",
       "128617                           3.317125                        4.010526   \n",
       "92292                            2.278689                        3.542373   \n",
       "141368                           3.619656                       26.243243   \n",
       "\n",
       "        avg_si_item_sel_30day  benefit  boosted  ... total_orders_sel_30days  \\\n",
       "128617               8.284211    0.001    False  ...                   762.0   \n",
       "92292                3.881356    0.001    False  ...                   209.0   \n",
       "141368              26.729730    0.000    False  ...                   971.0   \n",
       "\n",
       "        total_si_domain_30days total_si_item_30days total_si_sel_30days  \\\n",
       "128617                  3438.0                 21.0              1574.0   \n",
       "92292                    878.0                 27.0               229.0   \n",
       "141368                 58125.0                  8.0               989.0   \n",
       "\n",
       "       total_visits_domain total_visits_item  total_visits_seller  \\\n",
       "128617              353082              4185                61884   \n",
       "92292               178397              1350                27518   \n",
       "141368             8003689               266                33169   \n",
       "\n",
       "                                         uid      user_id  \\\n",
       "128617  6c828918-4ff1-437b-a866-d2a501123e32  287158472.0   \n",
       "92292   e60f6f83-b9bf-4bf6-bcff-4767b76743cb          NaN   \n",
       "141368  24e5b304-56a7-4009-a352-4d6a6dc30537  355256541.0   \n",
       "\n",
       "                             warranty  \n",
       "128617   Garantía de fábrica: 99 años  \n",
       "92292                              Sí  \n",
       "141368  Garantía de fábrica: 12 meses  \n",
       "\n",
       "[3 rows x 56 columns]"
      ]
     },
     "execution_count": 3,
     "metadata": {},
     "output_type": "execute_result"
    }
   ],
   "source": [
    "train.sample(3)"
   ]
  },
  {
   "cell_type": "code",
   "execution_count": 4,
   "metadata": {},
   "outputs": [
    {
     "data": {
      "text/plain": [
       "(180761, 56)"
      ]
     },
     "execution_count": 4,
     "metadata": {},
     "output_type": "execute_result"
    }
   ],
   "source": [
    "train.shape"
   ]
  },
  {
   "cell_type": "code",
   "execution_count": 5,
   "metadata": {},
   "outputs": [
    {
     "data": {
      "text/plain": [
       "Index(['accepts_mercadopago', 'available_quantity',\n",
       "       'avg_gmv_item_domain_30days', 'avg_gmv_item_sel', 'avg_gmv_seller_bday',\n",
       "       'avg_qty_orders_item_domain_30days', 'avg_qty_orders_item_sel_30days',\n",
       "       'avg_si_item_sel_30day', 'benefit', 'boosted', 'category_id',\n",
       "       'conversion', 'date', 'deal_print_id', 'domain_id', 'etl_version',\n",
       "       'free_shipping', 'fulfillment', 'full_name', 'health', 'is_pdp',\n",
       "       'product_id', 'item_id', 'listing_type_id', 'logistic_type',\n",
       "       'main_picture', 'offset', 'original_price', 'platform', 'price',\n",
       "       'print_position', 'print_server_timestamp', 'qty_items_dom',\n",
       "       'qty_items_sel', 'site_id', 'sold_quantity', 'tags', 'title',\n",
       "       'total_asp_item_domain_30days', 'total_asp_item_sel_30days',\n",
       "       'total_gmv_domain_bday', 'total_gmv_item_30days', 'total_items_domain',\n",
       "       'total_items_seller', 'total_orders_domain_30days',\n",
       "       'total_orders_item_30days', 'total_orders_sel_30days',\n",
       "       'total_si_domain_30days', 'total_si_item_30days', 'total_si_sel_30days',\n",
       "       'total_visits_domain', 'total_visits_item', 'total_visits_seller',\n",
       "       'uid', 'user_id', 'warranty'],\n",
       "      dtype='object')"
      ]
     },
     "execution_count": 5,
     "metadata": {},
     "output_type": "execute_result"
    }
   ],
   "source": [
    "train.columns"
   ]
  },
  {
   "cell_type": "code",
   "execution_count": 6,
   "metadata": {},
   "outputs": [
    {
     "data": {
      "text/html": [
       "<div>\n",
       "<style scoped>\n",
       "    .dataframe tbody tr th:only-of-type {\n",
       "        vertical-align: middle;\n",
       "    }\n",
       "\n",
       "    .dataframe tbody tr th {\n",
       "        vertical-align: top;\n",
       "    }\n",
       "\n",
       "    .dataframe thead th {\n",
       "        text-align: right;\n",
       "    }\n",
       "</style>\n",
       "<table border=\"1\" class=\"dataframe\">\n",
       "  <thead>\n",
       "    <tr style=\"text-align: right;\">\n",
       "      <th></th>\n",
       "      <th>available_quantity</th>\n",
       "      <th>avg_gmv_item_domain_30days</th>\n",
       "      <th>avg_gmv_item_sel</th>\n",
       "      <th>avg_gmv_seller_bday</th>\n",
       "      <th>avg_qty_orders_item_domain_30days</th>\n",
       "      <th>avg_qty_orders_item_sel_30days</th>\n",
       "      <th>avg_si_item_sel_30day</th>\n",
       "      <th>benefit</th>\n",
       "      <th>health</th>\n",
       "      <th>product_id</th>\n",
       "      <th>...</th>\n",
       "      <th>total_orders_domain_30days</th>\n",
       "      <th>total_orders_item_30days</th>\n",
       "      <th>total_orders_sel_30days</th>\n",
       "      <th>total_si_domain_30days</th>\n",
       "      <th>total_si_item_30days</th>\n",
       "      <th>total_si_sel_30days</th>\n",
       "      <th>total_visits_domain</th>\n",
       "      <th>total_visits_item</th>\n",
       "      <th>total_visits_seller</th>\n",
       "      <th>user_id</th>\n",
       "    </tr>\n",
       "  </thead>\n",
       "  <tbody>\n",
       "    <tr>\n",
       "      <th>count</th>\n",
       "      <td>180761.000000</td>\n",
       "      <td>176837.000000</td>\n",
       "      <td>176837.000000</td>\n",
       "      <td>176837.000000</td>\n",
       "      <td>176837.000000</td>\n",
       "      <td>176837.000000</td>\n",
       "      <td>176837.000000</td>\n",
       "      <td>180760.000000</td>\n",
       "      <td>180761.000000</td>\n",
       "      <td>4.289900e+04</td>\n",
       "      <td>...</td>\n",
       "      <td>176837.000000</td>\n",
       "      <td>176837.000000</td>\n",
       "      <td>176837.000000</td>\n",
       "      <td>176837.000000</td>\n",
       "      <td>176837.000000</td>\n",
       "      <td>176837.000000</td>\n",
       "      <td>1.807610e+05</td>\n",
       "      <td>180761.000000</td>\n",
       "      <td>1.807610e+05</td>\n",
       "      <td>1.612270e+05</td>\n",
       "    </tr>\n",
       "    <tr>\n",
       "      <th>mean</th>\n",
       "      <td>2074.535442</td>\n",
       "      <td>331.489834</td>\n",
       "      <td>1122.382439</td>\n",
       "      <td>10842.085465</td>\n",
       "      <td>4.375018</td>\n",
       "      <td>13.402640</td>\n",
       "      <td>18.165970</td>\n",
       "      <td>0.000976</td>\n",
       "      <td>0.809567</td>\n",
       "      <td>1.230187e+07</td>\n",
       "      <td>...</td>\n",
       "      <td>22346.620798</td>\n",
       "      <td>65.429135</td>\n",
       "      <td>3960.473125</td>\n",
       "      <td>29545.227238</td>\n",
       "      <td>89.288045</td>\n",
       "      <td>5261.887857</td>\n",
       "      <td>2.197788e+06</td>\n",
       "      <td>5653.601518</td>\n",
       "      <td>2.566183e+05</td>\n",
       "      <td>2.247744e+08</td>\n",
       "    </tr>\n",
       "    <tr>\n",
       "      <th>std</th>\n",
       "      <td>11235.369560</td>\n",
       "      <td>487.421765</td>\n",
       "      <td>4047.858620</td>\n",
       "      <td>26544.425783</td>\n",
       "      <td>2.770781</td>\n",
       "      <td>25.249710</td>\n",
       "      <td>33.342219</td>\n",
       "      <td>0.000154</td>\n",
       "      <td>0.147008</td>\n",
       "      <td>3.105051e+06</td>\n",
       "      <td>...</td>\n",
       "      <td>30446.480267</td>\n",
       "      <td>131.724559</td>\n",
       "      <td>5173.071895</td>\n",
       "      <td>50569.429428</td>\n",
       "      <td>226.963258</td>\n",
       "      <td>6839.221779</td>\n",
       "      <td>3.567731e+06</td>\n",
       "      <td>12433.292058</td>\n",
       "      <td>3.477934e+05</td>\n",
       "      <td>1.474363e+08</td>\n",
       "    </tr>\n",
       "    <tr>\n",
       "      <th>min</th>\n",
       "      <td>0.000000</td>\n",
       "      <td>4.909057</td>\n",
       "      <td>4.773333</td>\n",
       "      <td>0.660000</td>\n",
       "      <td>1.000000</td>\n",
       "      <td>1.000000</td>\n",
       "      <td>1.000000</td>\n",
       "      <td>0.000000</td>\n",
       "      <td>0.000000</td>\n",
       "      <td>7.140000e+02</td>\n",
       "      <td>...</td>\n",
       "      <td>4.000000</td>\n",
       "      <td>1.000000</td>\n",
       "      <td>2.000000</td>\n",
       "      <td>4.000000</td>\n",
       "      <td>1.000000</td>\n",
       "      <td>2.000000</td>\n",
       "      <td>3.160000e+02</td>\n",
       "      <td>1.000000</td>\n",
       "      <td>1.100000e+01</td>\n",
       "      <td>1.610000e+02</td>\n",
       "    </tr>\n",
       "    <tr>\n",
       "      <th>25%</th>\n",
       "      <td>18.000000</td>\n",
       "      <td>86.462920</td>\n",
       "      <td>143.683548</td>\n",
       "      <td>797.772000</td>\n",
       "      <td>2.870177</td>\n",
       "      <td>4.185072</td>\n",
       "      <td>4.916055</td>\n",
       "      <td>0.001000</td>\n",
       "      <td>0.770000</td>\n",
       "      <td>9.377732e+06</td>\n",
       "      <td>...</td>\n",
       "      <td>3149.000000</td>\n",
       "      <td>6.000000</td>\n",
       "      <td>723.000000</td>\n",
       "      <td>4006.000000</td>\n",
       "      <td>7.000000</td>\n",
       "      <td>962.000000</td>\n",
       "      <td>1.956490e+05</td>\n",
       "      <td>410.000000</td>\n",
       "      <td>4.818000e+04</td>\n",
       "      <td>1.054202e+08</td>\n",
       "    </tr>\n",
       "    <tr>\n",
       "      <th>50%</th>\n",
       "      <td>67.000000</td>\n",
       "      <td>168.752898</td>\n",
       "      <td>263.348400</td>\n",
       "      <td>2773.002333</td>\n",
       "      <td>3.635959</td>\n",
       "      <td>6.760114</td>\n",
       "      <td>8.882353</td>\n",
       "      <td>0.001000</td>\n",
       "      <td>0.810000</td>\n",
       "      <td>1.338716e+07</td>\n",
       "      <td>...</td>\n",
       "      <td>8882.000000</td>\n",
       "      <td>20.000000</td>\n",
       "      <td>2112.000000</td>\n",
       "      <td>11808.000000</td>\n",
       "      <td>24.000000</td>\n",
       "      <td>2749.000000</td>\n",
       "      <td>5.671660e+05</td>\n",
       "      <td>1496.000000</td>\n",
       "      <td>1.270040e+05</td>\n",
       "      <td>1.981852e+08</td>\n",
       "    </tr>\n",
       "    <tr>\n",
       "      <th>75%</th>\n",
       "      <td>366.000000</td>\n",
       "      <td>316.138036</td>\n",
       "      <td>677.012090</td>\n",
       "      <td>9313.758333</td>\n",
       "      <td>5.028571</td>\n",
       "      <td>13.426471</td>\n",
       "      <td>18.533333</td>\n",
       "      <td>0.001000</td>\n",
       "      <td>0.900000</td>\n",
       "      <td>1.519079e+07</td>\n",
       "      <td>...</td>\n",
       "      <td>24685.000000</td>\n",
       "      <td>63.000000</td>\n",
       "      <td>5037.000000</td>\n",
       "      <td>39732.000000</td>\n",
       "      <td>80.000000</td>\n",
       "      <td>6455.000000</td>\n",
       "      <td>2.012130e+06</td>\n",
       "      <td>5258.000000</td>\n",
       "      <td>2.853890e+05</td>\n",
       "      <td>3.206652e+08</td>\n",
       "    </tr>\n",
       "    <tr>\n",
       "      <th>max</th>\n",
       "      <td>99999.000000</td>\n",
       "      <td>3778.257881</td>\n",
       "      <td>57282.961233</td>\n",
       "      <td>244988.442667</td>\n",
       "      <td>38.148629</td>\n",
       "      <td>258.363636</td>\n",
       "      <td>465.500000</td>\n",
       "      <td>0.001000</td>\n",
       "      <td>1.000000</td>\n",
       "      <td>1.570348e+07</td>\n",
       "      <td>...</td>\n",
       "      <td>167184.000000</td>\n",
       "      <td>1853.000000</td>\n",
       "      <td>36492.000000</td>\n",
       "      <td>505258.000000</td>\n",
       "      <td>8269.000000</td>\n",
       "      <td>56189.000000</td>\n",
       "      <td>1.591114e+07</td>\n",
       "      <td>195413.000000</td>\n",
       "      <td>2.938795e+06</td>\n",
       "      <td>1.000014e+09</td>\n",
       "    </tr>\n",
       "  </tbody>\n",
       "</table>\n",
       "<p>8 rows × 33 columns</p>\n",
       "</div>"
      ],
      "text/plain": [
       "       available_quantity  avg_gmv_item_domain_30days  avg_gmv_item_sel  \\\n",
       "count       180761.000000               176837.000000     176837.000000   \n",
       "mean          2074.535442                  331.489834       1122.382439   \n",
       "std          11235.369560                  487.421765       4047.858620   \n",
       "min              0.000000                    4.909057          4.773333   \n",
       "25%             18.000000                   86.462920        143.683548   \n",
       "50%             67.000000                  168.752898        263.348400   \n",
       "75%            366.000000                  316.138036        677.012090   \n",
       "max          99999.000000                 3778.257881      57282.961233   \n",
       "\n",
       "       avg_gmv_seller_bday  avg_qty_orders_item_domain_30days  \\\n",
       "count        176837.000000                      176837.000000   \n",
       "mean          10842.085465                           4.375018   \n",
       "std           26544.425783                           2.770781   \n",
       "min               0.660000                           1.000000   \n",
       "25%             797.772000                           2.870177   \n",
       "50%            2773.002333                           3.635959   \n",
       "75%            9313.758333                           5.028571   \n",
       "max          244988.442667                          38.148629   \n",
       "\n",
       "       avg_qty_orders_item_sel_30days  avg_si_item_sel_30day        benefit  \\\n",
       "count                   176837.000000          176837.000000  180760.000000   \n",
       "mean                        13.402640              18.165970       0.000976   \n",
       "std                         25.249710              33.342219       0.000154   \n",
       "min                          1.000000               1.000000       0.000000   \n",
       "25%                          4.185072               4.916055       0.001000   \n",
       "50%                          6.760114               8.882353       0.001000   \n",
       "75%                         13.426471              18.533333       0.001000   \n",
       "max                        258.363636             465.500000       0.001000   \n",
       "\n",
       "              health    product_id  ...  total_orders_domain_30days  \\\n",
       "count  180761.000000  4.289900e+04  ...               176837.000000   \n",
       "mean        0.809567  1.230187e+07  ...                22346.620798   \n",
       "std         0.147008  3.105051e+06  ...                30446.480267   \n",
       "min         0.000000  7.140000e+02  ...                    4.000000   \n",
       "25%         0.770000  9.377732e+06  ...                 3149.000000   \n",
       "50%         0.810000  1.338716e+07  ...                 8882.000000   \n",
       "75%         0.900000  1.519079e+07  ...                24685.000000   \n",
       "max         1.000000  1.570348e+07  ...               167184.000000   \n",
       "\n",
       "       total_orders_item_30days  total_orders_sel_30days  \\\n",
       "count             176837.000000            176837.000000   \n",
       "mean                  65.429135              3960.473125   \n",
       "std                  131.724559              5173.071895   \n",
       "min                    1.000000                 2.000000   \n",
       "25%                    6.000000               723.000000   \n",
       "50%                   20.000000              2112.000000   \n",
       "75%                   63.000000              5037.000000   \n",
       "max                 1853.000000             36492.000000   \n",
       "\n",
       "       total_si_domain_30days  total_si_item_30days  total_si_sel_30days  \\\n",
       "count           176837.000000         176837.000000        176837.000000   \n",
       "mean             29545.227238             89.288045          5261.887857   \n",
       "std              50569.429428            226.963258          6839.221779   \n",
       "min                  4.000000              1.000000             2.000000   \n",
       "25%               4006.000000              7.000000           962.000000   \n",
       "50%              11808.000000             24.000000          2749.000000   \n",
       "75%              39732.000000             80.000000          6455.000000   \n",
       "max             505258.000000           8269.000000         56189.000000   \n",
       "\n",
       "       total_visits_domain  total_visits_item  total_visits_seller  \\\n",
       "count         1.807610e+05      180761.000000         1.807610e+05   \n",
       "mean          2.197788e+06        5653.601518         2.566183e+05   \n",
       "std           3.567731e+06       12433.292058         3.477934e+05   \n",
       "min           3.160000e+02           1.000000         1.100000e+01   \n",
       "25%           1.956490e+05         410.000000         4.818000e+04   \n",
       "50%           5.671660e+05        1496.000000         1.270040e+05   \n",
       "75%           2.012130e+06        5258.000000         2.853890e+05   \n",
       "max           1.591114e+07      195413.000000         2.938795e+06   \n",
       "\n",
       "            user_id  \n",
       "count  1.612270e+05  \n",
       "mean   2.247744e+08  \n",
       "std    1.474363e+08  \n",
       "min    1.610000e+02  \n",
       "25%    1.054202e+08  \n",
       "50%    1.981852e+08  \n",
       "75%    3.206652e+08  \n",
       "max    1.000014e+09  \n",
       "\n",
       "[8 rows x 33 columns]"
      ]
     },
     "execution_count": 6,
     "metadata": {},
     "output_type": "execute_result"
    }
   ],
   "source": [
    "train.describe()"
   ]
  },
  {
   "cell_type": "code",
   "execution_count": 7,
   "metadata": {},
   "outputs": [
    {
     "data": {
      "text/plain": [
       "accepts_mercadopago                       0\n",
       "available_quantity                        0\n",
       "avg_gmv_item_domain_30days             3924\n",
       "avg_gmv_item_sel                       3924\n",
       "avg_gmv_seller_bday                    3924\n",
       "avg_qty_orders_item_domain_30days      3924\n",
       "avg_qty_orders_item_sel_30days         3924\n",
       "avg_si_item_sel_30day                  3924\n",
       "benefit                                   1\n",
       "boosted                                   0\n",
       "category_id                               0\n",
       "conversion                                0\n",
       "date                                      0\n",
       "deal_print_id                             0\n",
       "domain_id                                 0\n",
       "etl_version                               0\n",
       "free_shipping                             0\n",
       "fulfillment                               0\n",
       "full_name                                 0\n",
       "health                                    0\n",
       "is_pdp                                81266\n",
       "product_id                           137862\n",
       "item_id                                   0\n",
       "listing_type_id                           0\n",
       "logistic_type                             0\n",
       "main_picture                           3373\n",
       "offset                                    0\n",
       "original_price                            0\n",
       "platform                                  0\n",
       "price                                     0\n",
       "print_position                            0\n",
       "print_server_timestamp                    0\n",
       "qty_items_dom                          3924\n",
       "qty_items_sel                          3924\n",
       "site_id                                   0\n",
       "sold_quantity                             0\n",
       "tags                                      0\n",
       "title                                     0\n",
       "total_asp_item_domain_30days           3924\n",
       "total_asp_item_sel_30days              3924\n",
       "total_gmv_domain_bday                  3924\n",
       "total_gmv_item_30days                  3924\n",
       "total_items_domain                        0\n",
       "total_items_seller                        0\n",
       "total_orders_domain_30days             3924\n",
       "total_orders_item_30days               3924\n",
       "total_orders_sel_30days                3924\n",
       "total_si_domain_30days                 3924\n",
       "total_si_item_30days                   3924\n",
       "total_si_sel_30days                    3924\n",
       "total_visits_domain                       0\n",
       "total_visits_item                         0\n",
       "total_visits_seller                       0\n",
       "uid                                       0\n",
       "user_id                               19534\n",
       "warranty                              43325\n",
       "dtype: int64"
      ]
     },
     "execution_count": 7,
     "metadata": {},
     "output_type": "execute_result"
    }
   ],
   "source": [
    "train.isnull().sum()"
   ]
  },
  {
   "cell_type": "code",
   "execution_count": 4,
   "metadata": {},
   "outputs": [
    {
     "name": "stdout",
     "output_type": "stream",
     "text": [
      "Prediction score for accepts_mercadopago = 2.5222837012596184e-07\n",
      "Prediction score for available_quantity = 0\n",
      "Prediction score for avg_gmv_item_domain_30days = 0\n",
      "Prediction score for avg_gmv_item_sel = 0\n",
      "Prediction score for avg_gmv_seller_bday = 0\n",
      "Prediction score for avg_qty_orders_item_domain_30days = 0\n",
      "Prediction score for avg_qty_orders_item_sel_30days = 0\n",
      "Prediction score for avg_si_item_sel_30day = 0\n",
      "Prediction score for benefit = 2.4260636382280745e-07\n",
      "Prediction score for boosted = 2.5222837012596184e-07\n",
      "Prediction score for category_id = 0.0013533087647355552\n",
      "Prediction score for conversion = 1\n",
      "Prediction score for deal_print_id = 0.005644428524939062\n",
      "Prediction score for domain_id = 0\n",
      "Prediction score for free_shipping = 2.5222837012596184e-07\n",
      "Prediction score for fulfillment = 2.5222837012596184e-07\n",
      "Prediction score for full_name = 0.0013533087647355552\n",
      "Prediction score for health = 0.0006157028218997211\n",
      "Prediction score for is_pdp = 1.5883219401755136e-07\n",
      "Prediction score for product_id = 0\n",
      "Prediction score for item_id = 0.002239457950595883\n",
      "Prediction score for listing_type_id = 2.5222837012596184e-07\n",
      "Prediction score for logistic_type = 2.5222837012596184e-07\n",
      "Prediction score for offset = 2.5222837012596184e-07\n",
      "Prediction score for original_price = 0\n",
      "Prediction score for platform = 2.5222837012596184e-07\n",
      "Prediction score for price = 0\n",
      "Prediction score for print_position = 0\n",
      "Prediction score for qty_items_dom = 0\n",
      "Prediction score for qty_items_sel = 0\n",
      "Prediction score for site_id = 2.5222837012596184e-07\n",
      "Prediction score for sold_quantity = 0\n",
      "Prediction score for total_asp_item_domain_30days = 0\n",
      "Prediction score for total_asp_item_sel_30days = 0\n",
      "Prediction score for total_gmv_domain_bday = 0\n",
      "Prediction score for total_gmv_item_30days = 0\n",
      "Prediction score for total_items_domain = 0\n",
      "Prediction score for total_items_seller = 0\n",
      "Prediction score for total_orders_domain_30days = 0\n",
      "Prediction score for total_orders_item_30days = 0.03931446387946178\n",
      "Prediction score for total_orders_sel_30days = 0\n",
      "Prediction score for total_si_domain_30days = 0\n",
      "Prediction score for total_si_item_30days = 0.03628280297768563\n",
      "Prediction score for total_si_sel_30days = 0\n",
      "Prediction score for total_visits_domain = 0\n",
      "Prediction score for total_visits_item = 0\n",
      "Prediction score for total_visits_seller = 0\n",
      "Prediction score for uid = 0.010485941813407881\n"
     ]
    }
   ],
   "source": [
    "import seaborn as sns\n",
    "import ppscore as pps\n",
    "ignored = [\n",
    "    'warranty',\n",
    "    'user_id',\n",
    "    'title',\n",
    "    'tags',\n",
    "    'full_name'\n",
    "    'uid',\n",
    "    'main_picture',\n",
    "    'print_server_timestamp',\n",
    "    'etl_version',\n",
    "    'date'\n",
    "]\n",
    "taken = [x for x in train.columns if x not in ignored]\n",
    "for column in taken:\n",
    "    score = pps.score(train, column, \"conversion\")\n",
    "    print(f\"Prediction score for {column} = {score['ppscore']}\")"
   ]
  },
  {
   "cell_type": "code",
   "execution_count": 5,
   "metadata": {},
   "outputs": [
    {
     "data": {
      "text/plain": [
       "<matplotlib.axes._subplots.AxesSubplot at 0x21b6bcfe1c8>"
      ]
     },
     "execution_count": 5,
     "metadata": {},
     "output_type": "execute_result"
    },
    {
     "data": {
      "image/png": "[encoded data removed]",
      "text/plain": [
       "<Figure size 432x288 with 2 Axes>"
      ]
     },
     "metadata": {
      "needs_background": "light"
     },
     "output_type": "display_data"
    }
   ],
   "source": [
    "sns.heatmap(train.loc[:, taken + ['conversion']].corr())"
   ]
  },
  {
   "cell_type": "markdown",
   "metadata": {},
   "source": [
    "## Página de producto"
   ]
  },
  {
   "cell_type": "code",
   "execution_count": 8,
   "metadata": {},
   "outputs": [
    {
     "data": {
      "text/plain": [
       "False    98892\n",
       "True       603\n",
       "Name: is_pdp, dtype: int64"
      ]
     },
     "execution_count": 8,
     "metadata": {},
     "output_type": "execute_result"
    }
   ],
   "source": [
    "train.is_pdp.value_counts()"
   ]
  },
  {
   "cell_type": "code",
   "execution_count": 25,
   "metadata": {},
   "outputs": [
    {
     "data": {
      "text/plain": [
       "81266"
      ]
     },
     "execution_count": 25,
     "metadata": {},
     "output_type": "execute_result"
    }
   ],
   "source": [
    "train.is_pdp.isnull().sum()"
   ]
  },
  {
   "cell_type": "code",
   "execution_count": 19,
   "metadata": {},
   "outputs": [
    {
     "data": {
      "image/png": "[encoded data removed]",
      "text/plain": [
       "<Figure size 432x288 with 2 Axes>"
      ]
     },
     "metadata": {
      "needs_background": "light"
     },
     "output_type": "display_data"
    }
   ],
   "source": [
    "import seaborn as sns\n",
    "pdp_conversion = train.loc[:, ['is_pdp', 'conversion']]\n",
    "sns.heatmap(pps.matrix(pdp_conversion));"
   ]
  },
  {
   "cell_type": "code",
   "execution_count": 32,
   "metadata": {},
   "outputs": [
    {
     "name": "stdout",
     "output_type": "stream",
     "text": [
      "\n",
      "Las pdp tienen 55.04% de completados\n",
      "Y del total 0.33% son efectivamente pdp (true)\n",
      "Las pdp tienen un promedio muestral en la conversion de 35.16%\n",
      "Para las páginas que no son de pdp, se tiene un promedio muestral de conversión de 16.72\n",
      "\n"
     ]
    }
   ],
   "source": [
    "print(f\"\"\"\n",
    "Las pdp tienen {(100 * (~train.is_pdp.isnull()).sum() / train.shape[0]):.2f}% de completados\n",
    "Y del total {(100 * train.is_pdp.sum() / train.shape[0]):.2f}% son efectivamente pdp (true)\n",
    "Las pdp tienen un promedio muestral en la conversion de {(100 * (train.is_pdp & train.conversion).sum() / train.is_pdp.sum()):.2f}%\n",
    "Para las páginas que no son de pdp, se tiene un promedio muestral de conversión de {(100 * ((train.is_pdp == False) & train.conversion).sum() / (train.is_pdp == False).sum()):.2f}\n",
    "\"\"\")"
   ]
  },
  {
   "cell_type": "markdown",
   "metadata": {},
   "source": [
    "Aunque vemos que en promedio las pdp tienen mayor conversión, vemos totalmente desbalanceada la clase, y es posible que esta información en sí misma podría estar embebida dentro de otras variables como la categoría. De momento para un primer approach descartamos utilizar esta variable como predictor de la conversión."
   ]
  },
  {
   "cell_type": "markdown",
   "metadata": {},
   "source": [
    "## Datos referentes al ítem y el seller en promedio"
   ]
  },
  {
   "cell_type": "code",
   "execution_count": 33,
   "metadata": {},
   "outputs": [],
   "source": [
    "avg_item_seller = [\n",
    "    'avg_gmv_item_domain_30days',\n",
    "    'avg_gmv_item_sel',\n",
    "    'avg_gmv_seller_bday',\n",
    "    'avg_qty_orders_item_domain_30days',\n",
    "    'avg_qty_orders_item_sel_30days',\n",
    "    'avg_si_item_sel_30day'\n",
    "]"
   ]
  },
  {
   "cell_type": "code",
   "execution_count": 35,
   "metadata": {},
   "outputs": [],
   "source": [
    "train_avg = train.loc[:, avg_item_seller + ['conversion']]"
   ]
  },
  {
   "cell_type": "code",
   "execution_count": 36,
   "metadata": {},
   "outputs": [
    {
     "data": {
      "text/plain": [
       "<matplotlib.axes._subplots.AxesSubplot at 0x2995cb9eb48>"
      ]
     },
     "execution_count": 36,
     "metadata": {},
     "output_type": "execute_result"
    },
    {
     "data": {
      "image/png": "[encoded data removed]",
      "text/plain": [
       "<Figure size 432x288 with 2 Axes>"
      ]
     },
     "metadata": {
      "needs_background": "light"
     },
     "output_type": "display_data"
    }
   ],
   "source": [
    "sns.heatmap(pps.matrix(train_avg))"
   ]
  },
  {
   "cell_type": "code",
   "execution_count": 55,
   "metadata": {},
   "outputs": [
    {
     "data": {
      "text/plain": [
       "avg_gmv_item_domain_30days           0\n",
       "avg_gmv_item_sel                     0\n",
       "avg_gmv_seller_bday                  0\n",
       "avg_qty_orders_item_domain_30days    0\n",
       "avg_qty_orders_item_sel_30days       0\n",
       "avg_si_item_sel_30day                0\n",
       "conversion                           1\n",
       "Name: conversion, dtype: int64"
      ]
     },
     "execution_count": 55,
     "metadata": {},
     "output_type": "execute_result"
    }
   ],
   "source": [
    "pps.matrix(train_avg).conversion"
   ]
  },
  {
   "cell_type": "code",
   "execution_count": 52,
   "metadata": {},
   "outputs": [],
   "source": [
    "corr = train_avg.corr()"
   ]
  },
  {
   "cell_type": "code",
   "execution_count": 53,
   "metadata": {},
   "outputs": [
    {
     "data": {
      "text/plain": [
       "<matplotlib.axes._subplots.AxesSubplot at 0x2995d5dc1c8>"
      ]
     },
     "execution_count": 53,
     "metadata": {},
     "output_type": "execute_result"
    },
    {
     "data": {
      "image/png": "[encoded data removed]",
      "text/plain": [
       "<Figure size 432x288 with 2 Axes>"
      ]
     },
     "metadata": {
      "needs_background": "light"
     },
     "output_type": "display_data"
    }
   ],
   "source": [
    "sns.heatmap(corr)"
   ]
  },
  {
   "cell_type": "code",
   "execution_count": 54,
   "metadata": {},
   "outputs": [
    {
     "data": {
      "text/plain": [
       "avg_gmv_item_domain_30days           0.087146\n",
       "avg_gmv_item_sel                     0.085516\n",
       "avg_gmv_seller_bday                  0.057562\n",
       "avg_qty_orders_item_domain_30days    0.066549\n",
       "avg_qty_orders_item_sel_30days       0.091836\n",
       "avg_si_item_sel_30day                0.077111\n",
       "conversion                           1.000000\n",
       "Name: conversion, dtype: float64"
      ]
     },
     "execution_count": 54,
     "metadata": {},
     "output_type": "execute_result"
    }
   ],
   "source": [
    "corr['conversion']"
   ]
  },
  {
   "cell_type": "code",
   "execution_count": 38,
   "metadata": {},
   "outputs": [
    {
     "data": {
      "text/plain": [
       "accepts_mercadopago                       0\n",
       "available_quantity                        0\n",
       "avg_gmv_item_domain_30days                0\n",
       "avg_gmv_item_sel                          0\n",
       "avg_gmv_seller_bday                       0\n",
       "avg_qty_orders_item_domain_30days         0\n",
       "avg_qty_orders_item_sel_30days            0\n",
       "avg_si_item_sel_30day                     0\n",
       "benefit                                   1\n",
       "boosted                                   0\n",
       "category_id                               0\n",
       "conversion                                0\n",
       "date                                      0\n",
       "deal_print_id                             0\n",
       "domain_id                                 0\n",
       "etl_version                               0\n",
       "free_shipping                             0\n",
       "fulfillment                               0\n",
       "full_name                                 0\n",
       "health                                    0\n",
       "is_pdp                                79159\n",
       "product_id                           135489\n",
       "item_id                                   0\n",
       "listing_type_id                           0\n",
       "logistic_type                             0\n",
       "main_picture                           3356\n",
       "offset                                    0\n",
       "original_price                            0\n",
       "platform                                  0\n",
       "price                                     0\n",
       "print_position                            0\n",
       "print_server_timestamp                    0\n",
       "qty_items_dom                             0\n",
       "qty_items_sel                             0\n",
       "site_id                                   0\n",
       "sold_quantity                             0\n",
       "tags                                      0\n",
       "title                                     0\n",
       "total_asp_item_domain_30days              0\n",
       "total_asp_item_sel_30days                 0\n",
       "total_gmv_domain_bday                     0\n",
       "total_gmv_item_30days                     0\n",
       "total_items_domain                        0\n",
       "total_items_seller                        0\n",
       "total_orders_domain_30days                0\n",
       "total_orders_item_30days                  0\n",
       "total_orders_sel_30days                   0\n",
       "total_si_domain_30days                    0\n",
       "total_si_item_30days                      0\n",
       "total_si_sel_30days                       0\n",
       "total_visits_domain                       0\n",
       "total_visits_item                         0\n",
       "total_visits_seller                       0\n",
       "uid                                       0\n",
       "user_id                               19117\n",
       "warranty                              42117\n",
       "dtype: int64"
      ]
     },
     "execution_count": 38,
     "metadata": {},
     "output_type": "execute_result"
    }
   ],
   "source": [
    "train[~train.avg_gmv_item_domain_30days.isnull()].isnull().sum()"
   ]
  },
  {
   "cell_type": "code",
   "execution_count": 39,
   "metadata": {},
   "outputs": [
    {
     "data": {
      "text/plain": [
       "(176837, 56)"
      ]
     },
     "execution_count": 39,
     "metadata": {},
     "output_type": "execute_result"
    }
   ],
   "source": [
    "train[~train.avg_gmv_item_domain_30days.isnull()].shape"
   ]
  },
  {
   "cell_type": "markdown",
   "metadata": {},
   "source": [
    "Estas variables no presentan de momento una fuerta relación con la variable objetivo y los datos faltantes representan una muy pequeña parte del total. En el paso anterior vimos que dropeando los nulls de estas columnas, estaríamos tambien dropeando nulls en las demás (al menos en la mayoría de ellas)."
   ]
  },
  {
   "cell_type": "markdown",
   "metadata": {},
   "source": [
    "## Datos referentes al dominio, item en total"
   ]
  },
  {
   "cell_type": "code",
   "execution_count": 41,
   "metadata": {},
   "outputs": [],
   "source": [
    "total_vars = [\n",
    "    'total_asp_item_domain_30days',\n",
    "    'total_asp_item_sel_30days',\n",
    "    'total_gmv_domain_bday',\n",
    "    'total_gmv_item_30days',\n",
    "    'total_items_domain',\n",
    "    'total_items_seller',\n",
    "    'total_orders_domain_30days',\n",
    "    'total_orders_item_30days',\n",
    "    'total_orders_sel_30days',\n",
    "    'total_si_domain_30days',\n",
    "    'total_si_item_30days',\n",
    "    'total_si_sel_30days',\n",
    "    'total_visits_domain',\n",
    "    'total_visits_item',\n",
    "    'total_visits_seller'\n",
    "]"
   ]
  },
  {
   "cell_type": "code",
   "execution_count": 44,
   "metadata": {},
   "outputs": [],
   "source": [
    "corr = train.loc[:, total_vars + ['conversion']].corr()\n",
    "scorem = pps.matrix(train.loc[:, total_vars + ['conversion']])"
   ]
  },
  {
   "cell_type": "code",
   "execution_count": 45,
   "metadata": {},
   "outputs": [
    {
     "data": {
      "text/plain": [
       "<matplotlib.axes._subplots.AxesSubplot at 0x2995d5173c8>"
      ]
     },
     "execution_count": 45,
     "metadata": {},
     "output_type": "execute_result"
    },
    {
     "data": {
      "image/png": "[encoded data removed]",
      "text/plain": [
       "<Figure size 432x288 with 2 Axes>"
      ]
     },
     "metadata": {
      "needs_background": "light"
     },
     "output_type": "display_data"
    }
   ],
   "source": [
    "sns.heatmap(corr)"
   ]
  },
  {
   "cell_type": "code",
   "execution_count": 46,
   "metadata": {},
   "outputs": [
    {
     "data": {
      "text/plain": [
       "<matplotlib.axes._subplots.AxesSubplot at 0x2995d5dcf88>"
      ]
     },
     "execution_count": 46,
     "metadata": {},
     "output_type": "execute_result"
    },
    {
     "data": {
      "image/png": "[encoded data removed]",
      "text/plain": [
       "<Figure size 432x288 with 2 Axes>"
      ]
     },
     "metadata": {
      "needs_background": "light"
     },
     "output_type": "display_data"
    }
   ],
   "source": [
    "sns.heatmap(scorem)"
   ]
  },
  {
   "cell_type": "code",
   "execution_count": 51,
   "metadata": {},
   "outputs": [
    {
     "data": {
      "text/plain": [
       "total_asp_item_domain_30days    0.062507\n",
       "total_asp_item_sel_30days       0.063720\n",
       "total_gmv_domain_bday           0.075498\n",
       "total_gmv_item_30days           0.107730\n",
       "total_items_domain              0.009169\n",
       "total_items_seller              0.002878\n",
       "total_orders_domain_30days      0.027164\n",
       "total_orders_item_30days        0.139590\n",
       "total_orders_sel_30days         0.043699\n",
       "total_si_domain_30days          0.009342\n",
       "total_si_item_30days            0.093048\n",
       "total_si_sel_30days             0.029855\n",
       "total_visits_domain             0.028091\n",
       "total_visits_item               0.122701\n",
       "total_visits_seller             0.030180\n",
       "conversion                      1.000000\n",
       "Name: conversion, dtype: float64"
      ]
     },
     "execution_count": 51,
     "metadata": {},
     "output_type": "execute_result"
    }
   ],
   "source": [
    "corr['conversion']"
   ]
  },
  {
   "cell_type": "code",
   "execution_count": null,
   "metadata": {},
   "outputs": [],
   "source": []
  }
 ],
 "metadata": {
  "kernelspec": {
   "display_name": "Python 3",
   "language": "python",
   "name": "python3"
  },
  "language_info": {
   "codemirror_mode": {
    "name": "ipython",
    "version": 3
   },
   "file_extension": ".py",
   "mimetype": "text/x-python",
   "name": "python",
   "nbconvert_exporter": "python",
   "pygments_lexer": "ipython3",
   "version": "3.7.7"
  }
 },
 "nbformat": 4,
 "nbformat_minor": 4
}
